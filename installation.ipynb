{
 "cells": [
  {
   "cell_type": "markdown",
   "metadata": {},
   "source": [
    "# Guide to install all the necessary tools to run the experiments\n",
    "\n",
    "## Julia programming language (v1.11.1)\n",
    "\n",
    "In this experiment the Julia's version usade is v1.11.1.\n",
    "\n",
    "To download this specific version open a new terminal session.\n",
    "\n",
    "After that, navigate to the directory you want to install Julia.\n",
    "\n",
    "Then, run the following command:\n",
    "\n",
    "```bash\n",
    "wget https://julialang-s3.julialang.org/bin/linux/x64/1.11/julia-1.11.1-linux-x86_64.tar.gz\n",
    "``` \n",
    "\n",
    "This command will download the Julia's files. To unpack it, run the next command: \n",
    "\n",
    "```bash\n",
    "tar zxvf julia-1.11.1-linux-x86_64.tar.gz\n",
    "```\n",
    "\n",
    "After unpacking everything you need to add the Julia's executable to the PATH environment.\n",
    "\n",
    "To do that, open the bashrc file and edit it. You can use `nano ~/.bashrc`.\n",
    "\n",
    "With the file open, add the next line to the end of the file:\n",
    "\n",
    "```bash\n",
    "export PATH=\"$PATH:/path/to/julia/julia-1.11.1/bin\"\n",
    "``` \n",
    "\n",
    "Were `/path/to/julia/` is the directory you downloaded the package.\n",
    "\n",
    "Once you did this, save and close the bashrc file and run `source ~/.bashrc` on the terminal or close it and open a new terminal.\n",
    "\n",
    "To check if it is working run `julia` on the terminal, the Julia's REPL should open. To exit, run `exit()`."
   ]
  }
 ],
 "metadata": {
  "language_info": {
   "name": "python"
  }
 },
 "nbformat": 4,
 "nbformat_minor": 2
}
